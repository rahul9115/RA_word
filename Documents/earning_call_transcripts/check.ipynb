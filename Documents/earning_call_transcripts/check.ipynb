{
 "cells": [
  {
   "cell_type": "code",
   "execution_count": 1,
   "id": "a988cb5d-0e28-425b-83f1-06dead178a67",
   "metadata": {},
   "outputs": [],
   "source": [
    "import pandas as pd"
   ]
  },
  {
   "cell_type": "code",
   "execution_count": 3,
   "id": "b1f6b2a4-c2d5-48ea-8eb4-5c77803699d2",
   "metadata": {},
   "outputs": [
    {
     "data": {
      "text/html": [
       "<div>\n",
       "<style scoped>\n",
       "    .dataframe tbody tr th:only-of-type {\n",
       "        vertical-align: middle;\n",
       "    }\n",
       "\n",
       "    .dataframe tbody tr th {\n",
       "        vertical-align: top;\n",
       "    }\n",
       "\n",
       "    .dataframe thead th {\n",
       "        text-align: right;\n",
       "    }\n",
       "</style>\n",
       "<table border=\"1\" class=\"dataframe\">\n",
       "  <thead>\n",
       "    <tr style=\"text-align: right;\">\n",
       "      <th></th>\n",
       "      <th>Unnamed: 0</th>\n",
       "      <th>Date</th>\n",
       "      <th>Quarter</th>\n",
       "      <th>Year</th>\n",
       "      <th>Ticker</th>\n",
       "      <th>Earning Call Transcripts</th>\n",
       "    </tr>\n",
       "  </thead>\n",
       "  <tbody>\n",
       "    <tr>\n",
       "      <th>0</th>\n",
       "      <td>0</td>\n",
       "      <td>October 18, 2023</td>\n",
       "      <td>Third</td>\n",
       "      <td>2023</td>\n",
       "      <td>Tesla, Inc. (TSLA) Earnings Call Transcript</td>\n",
       "      <td>Tesla, Inc. (TSLA) Earnings Call Transcript\\nO...</td>\n",
       "    </tr>\n",
       "    <tr>\n",
       "      <th>1</th>\n",
       "      <td>0</td>\n",
       "      <td>July 19, 2023</td>\n",
       "      <td>Second</td>\n",
       "      <td>2023</td>\n",
       "      <td>Tesla, Inc. (TSLA) Earnings Call Transcript</td>\n",
       "      <td>Tesla, Inc. (TSLA) Earnings Call Transcript\\nJ...</td>\n",
       "    </tr>\n",
       "    <tr>\n",
       "      <th>2</th>\n",
       "      <td>0</td>\n",
       "      <td>April 19, 2023</td>\n",
       "      <td>First</td>\n",
       "      <td>2023</td>\n",
       "      <td>Tesla, Inc. (TSLA) Earnings Call Transcript</td>\n",
       "      <td>Tesla, Inc. (TSLA) Earnings Call Transcript\\nA...</td>\n",
       "    </tr>\n",
       "    <tr>\n",
       "      <th>3</th>\n",
       "      <td>0</td>\n",
       "      <td>January 25, 2023</td>\n",
       "      <td>Fourth</td>\n",
       "      <td>2022</td>\n",
       "      <td>Tesla, Inc. (TSLA) Earnings Call Transcript</td>\n",
       "      <td>Tesla, Inc. (TSLA) Earnings Call Transcript\\nJ...</td>\n",
       "    </tr>\n",
       "    <tr>\n",
       "      <th>4</th>\n",
       "      <td>0</td>\n",
       "      <td>October 19, 2022</td>\n",
       "      <td>Third</td>\n",
       "      <td>2022</td>\n",
       "      <td>Tesla, Inc. (TSLA) Earnings Call Transcript</td>\n",
       "      <td>Tesla, Inc. (TSLA) Earnings Call Transcript\\nO...</td>\n",
       "    </tr>\n",
       "  </tbody>\n",
       "</table>\n",
       "</div>"
      ],
      "text/plain": [
       "   Unnamed: 0              Date Quarter  Year  \\\n",
       "0           0  October 18, 2023   Third  2023   \n",
       "1           0     July 19, 2023  Second  2023   \n",
       "2           0    April 19, 2023   First  2023   \n",
       "3           0  January 25, 2023  Fourth  2022   \n",
       "4           0  October 19, 2022   Third  2022   \n",
       "\n",
       "                                        Ticker  \\\n",
       "0  Tesla, Inc. (TSLA) Earnings Call Transcript   \n",
       "1  Tesla, Inc. (TSLA) Earnings Call Transcript   \n",
       "2  Tesla, Inc. (TSLA) Earnings Call Transcript   \n",
       "3  Tesla, Inc. (TSLA) Earnings Call Transcript   \n",
       "4  Tesla, Inc. (TSLA) Earnings Call Transcript   \n",
       "\n",
       "                            Earning Call Transcripts  \n",
       "0  Tesla, Inc. (TSLA) Earnings Call Transcript\\nO...  \n",
       "1  Tesla, Inc. (TSLA) Earnings Call Transcript\\nJ...  \n",
       "2  Tesla, Inc. (TSLA) Earnings Call Transcript\\nA...  \n",
       "3  Tesla, Inc. (TSLA) Earnings Call Transcript\\nJ...  \n",
       "4  Tesla, Inc. (TSLA) Earnings Call Transcript\\nO...  "
      ]
     },
     "execution_count": 3,
     "metadata": {},
     "output_type": "execute_result"
    }
   ],
   "source": [
    "df=pd.read_csv(\"earnings_call.csv\")\n",
    "df.head()\n"
   ]
  }
 ],
 "metadata": {
  "kernelspec": {
   "display_name": "Python 3 (ipykernel)",
   "language": "python",
   "name": "python3"
  },
  "language_info": {
   "codemirror_mode": {
    "name": "ipython",
    "version": 3
   },
   "file_extension": ".py",
   "mimetype": "text/x-python",
   "name": "python",
   "nbconvert_exporter": "python",
   "pygments_lexer": "ipython3",
   "version": "3.8.0"
  }
 },
 "nbformat": 4,
 "nbformat_minor": 5
}
